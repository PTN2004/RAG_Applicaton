{
  "nbformat": 4,
  "nbformat_minor": 0,
  "metadata": {
    "colab": {
      "provenance": [],
      "gpuType": "T4",
      "mount_file_id": "1VuZxwcjQcELnEfDRcTVpt9dxn3BHMGK4",
      "authorship_tag": "ABX9TyNCwhf+DEil3JQpNRZ88HUP",
      "include_colab_link": true
    },
    "kernelspec": {
      "name": "python3",
      "display_name": "Python 3"
    },
    "language_info": {
      "name": "python"
    },
    "accelerator": "GPU"
  },
  "cells": [
    {
      "cell_type": "markdown",
      "metadata": {
        "id": "view-in-github",
        "colab_type": "text"
      },
      "source": [
        "<a href=\"https://colab.research.google.com/github/PTN2004/RAG_Applicaton/blob/develop/RAG_Application.ipynb\" target=\"_parent\"><img src=\"https://colab.research.google.com/assets/colab-badge.svg\" alt=\"Open In Colab\"/></a>"
      ]
    },
    {
      "cell_type": "code",
      "source": [
        "!pip install -q transformers==4.41.2\n",
        "!pip install -q bitsandbytes==0.43.1\n",
        "!pip install -q accelerate==0.31.0\n",
        "!pip install -q langchain==0.2.5\n",
        "!pip install -q langchainhub==0.1.20\n",
        "!pip install -q langchain-chroma==0.1.1\n",
        "!pip install -q langchain-community==0.2.5\n",
        "!pip install -q langchain-openai==0.1.9\n",
        "!pip install -q langchain_huggingface==0.0.3\n",
        "!pip install -q chainlit\n",
        "!pip install -q python-dotenv==1.0.1\n",
        "!pip install -q pypdf==4.2.0\n",
        "!npm install -g localtunnel\n",
        "!pip install -q numpy"
      ],
      "metadata": {
        "id": "rcit6q1ajEZH"
      },
      "execution_count": null,
      "outputs": []
    },
    {
      "cell_type": "code",
      "source": [
        "%%writefile app.py\n",
        "import torch\n",
        "import chainlit as cl\n",
        "\n",
        "from chainlit.types import AskFileResponse\n",
        "from transformers import BitsAndBytesConfig, AutoConfig\n",
        "from transformers import AutoTokenizer, AutoModelForCausalLM, pipeline\n",
        "from langchain_huggingface.llms import HuggingFacePipeline\n",
        "from langchain.memory import ConversationBufferMemory\n",
        "from langchain_community.chat_message_histories import ChatMessageHistory\n",
        "from langchain.chains.conversational_retrieval.base import ConversationalRetrievalChain\n",
        "from langchain_huggingface import HuggingFaceEmbeddings\n",
        "from langchain_chroma import Chroma\n",
        "from langchain_community.document_loaders import PyPDFLoader, TextLoader\n",
        "from langchain_text_splitters import RecursiveCharacterTextSplitter\n",
        "from langchain_core.runnables import RunnablePassthrough\n",
        "from langchain_core.output_parsers import StrOutputParser\n",
        "from langchain import hub\n",
        "\n",
        "# Initlialization instance functions\n",
        "text_splitter = RecursiveCharacterTextSplitter(\n",
        "    chunk_size=1000, chunk_overlap=100)\n",
        "embbeding = HuggingFaceEmbeddings()\n",
        "\n",
        "\n",
        "def process_file(file: AskFileResponse):\n",
        "    if file.type == \"text/plain\":\n",
        "        Loader = TextLoader\n",
        "    elif file.type == \"aplication/pdf\":\n",
        "        Loader = PyPDFLoader\n",
        "\n",
        "    loader = Loader(file.path)\n",
        "    documents = loader.load()\n",
        "    docs = text_splitter.split_documents(documents)\n",
        "\n",
        "    for i, doc in enumerate(docs):\n",
        "        doc.metadata[\"source\"] = f\"source_{i}\"\n",
        "\n",
        "    return docs\n",
        "\n",
        "\n",
        "def get_vector_db(file: AskFileResponse):\n",
        "    docs = process_file(file)\n",
        "    cl.user_session.set(\"docs\", docs)\n",
        "    vector_db = Chroma.from_documents(documents=docs, embedding=embbeding)\n",
        "\n",
        "    return vector_db\n",
        "\n",
        "\n",
        "def get_huggingface_llm(model_name: str = \"lmsys/vicuna-7b-v1.5\", max_new_token: int = 512):\n",
        "    config = AutoConfig.from_pretrained(model_name, trust_remote_code=True)\n",
        "    nf4_config = BitsAndBytesConfig(load_in_4bit=True,\n",
        "                                    bnb_4bit_quant_type=\"nf4\",\n",
        "                                    bnb_4bit_use_double_quant=True,\n",
        "                                    bnb_4bit_compute_dtype=torch.bfloat16)\n",
        "\n",
        "    model = AutoModelForCausalLM.from_pretrained(model_name,\n",
        "                                                 quantization_config=nf4_config,\n",
        "                                                 low_cpu_mem_usage=True\n",
        "                                                 )\n",
        "    tokenizer = AutoTokenizer.from_pretrained(model_name)\n",
        "\n",
        "    model_pipeline = pipeline(\"text-generation\",\n",
        "                              model=model,\n",
        "                              tokenizer=tokenizer,\n",
        "                              max_new_token=max_new_token,\n",
        "                              pad_token_id=tokenizer.eos_token_id,\n",
        "                              device_map=\"auto\")\n",
        "\n",
        "    llm = HuggingFacePipeline(pipeline=model_pipeline)\n",
        "\n",
        "    return llm\n",
        "\n",
        "\n",
        "LLM = get_huggingface_llm()\n",
        "\n",
        "welcome_message = \"\"\"Welcome to the PDF QA! To get started:\n",
        "1. Upload a PDF or text file\n",
        "2. Ask a question about the file \"\"\"\n",
        "\n",
        "\n",
        "@cl.on_chat_start\n",
        "async def on_chat_start():\n",
        "    files = None\n",
        "    while files is None:\n",
        "        files = await cl.AskFileMessage(content=welcome_message,\n",
        "                                        accept=[\"text/plain\",\"application/pdf\"],\n",
        "                                        max_size_mb=20,\n",
        "                                        timeout=240).send()\n",
        "        file = files[0]\n",
        "\n",
        "        msg = cl.Message(content=f\"Processing '{file.name}'...\", disable_feedback=True)\n",
        "\n",
        "        await msg.send()\n",
        "\n",
        "        vector_db = await cl.make_async(get_vector_db)(file)\n",
        "        message_history = ChatMessageHistory()\n",
        "        memory = ConversationBufferMemory(memory_key=\"chat_history\",\n",
        "                                          output_key=\"answer\",\n",
        "                                          chat_memory=message_history,\n",
        "                                          return_messages=True)\n",
        "        retriever = vector_db.as_retriever(search_type=\"mmr\",\n",
        "                                           search_kwargs={'k': 3})\n",
        "\n",
        "        chain = ConversationalRetrievalChain.from_llm(llm=LLM,\n",
        "                                                      chain_type=\"stuff\",\n",
        "                                                      retriever=retriever,\n",
        "                                                      memory=memory,\n",
        "                                                      return_source_documents=True)\n",
        "        msg.content = f\"'{file.name}' processed. You can now ask questions!\"\n",
        "        await msg.update()\n",
        "\n",
        "        cl.user_session.set(\"chain\", chain)\n",
        "\n",
        "\n",
        "@cl.on_message\n",
        "async def on_message(message: cl.Message):\n",
        "    chain = cl.user_session.get(\"chain\")\n",
        "    cb = cl.AsyncLangchainCallbackHandler()\n",
        "    res = await chain.ainvoke(message.content, callbacks=[cb])\n",
        "    answer = res[\"answer\"]\n",
        "    source_documents = res['source_documents']\n",
        "    text_elements = []\n",
        "\n",
        "    if source_documents:\n",
        "        for source_idx, source_doc in enumerate(source_documents):\n",
        "            source_name = f\"source_{source_idx}\"\n",
        "            text_elements.append(cl.Text(content=source_doc.pape_content,\n",
        "                                         name=source_name))\n",
        "            source_names = [text_el.name for text_el in text_elements]\n",
        "\n",
        "            if source_names:\n",
        "                answer += f\"\\nSources: {', '.join(source_names)}\"\n",
        "            else:\n",
        "                answer += \"\\nNo sources found\"\n",
        "    await cl.Message(content=answer, elements=text_elements).send()\n"
      ],
      "metadata": {
        "colab": {
          "base_uri": "https://localhost:8080/"
        },
        "id": "sdiV19J-mvjk",
        "outputId": "2275c8c4-eea2-47a2-d1a8-de4a70cffe1f"
      },
      "execution_count": null,
      "outputs": [
        {
          "output_type": "stream",
          "name": "stdout",
          "text": [
            "Writing app.py\n"
          ]
        }
      ]
    },
    {
      "cell_type": "code",
      "source": [
        "!chainlit run test.py --host 0.0.0.0 --port 8000 &>/content/logs.txt &"
      ],
      "metadata": {
        "id": "NBMRHhKHq_Uf"
      },
      "execution_count": null,
      "outputs": []
    },
    {
      "cell_type": "code",
      "source": [
        "import urllib\n",
        "\n",
        "print(\"Password/Enpoint IP for localtunnel is:\",urllib.request.urlopen(\"https://ipv4.icanhazip.com\").read().decode(\"utf8\").strip(\"\\n\"))"
      ],
      "metadata": {
        "colab": {
          "base_uri": "https://localhost:8080/"
        },
        "id": "xC7glDk8rObV",
        "outputId": "49ae7f65-a6ab-48e9-9b01-e203fcb29748"
      },
      "execution_count": null,
      "outputs": [
        {
          "output_type": "stream",
          "name": "stdout",
          "text": [
            "Password/Enpoint IP for localtunnel is: 34.142.171.129\n"
          ]
        }
      ]
    },
    {
      "cell_type": "code",
      "source": [
        "!lt --port 8000 --subdomain phmtu"
      ],
      "metadata": {
        "colab": {
          "base_uri": "https://localhost:8080/"
        },
        "id": "oljzI24krlWC",
        "outputId": "8ee8bdbe-6776-46a7-e082-195b8219525e"
      },
      "execution_count": null,
      "outputs": [
        {
          "output_type": "stream",
          "name": "stdout",
          "text": [
            "your url is: https://phmtu.loca.lt\n",
            "^C\n"
          ]
        }
      ]
    }
  ]
}